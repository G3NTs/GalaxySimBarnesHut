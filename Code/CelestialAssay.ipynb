{
 "cells": [
  {
   "cell_type": "markdown",
   "metadata": {},
   "source": [
    "#### 3D Celestial Body mechanics in Python\n",
    "### Steps\n",
    "- Create class that defines a body"
   ]
  },
  {
   "cell_type": "code",
   "execution_count": 4,
   "metadata": {},
   "outputs": [],
   "source": [
    "class body_v1:\n",
    "    def __init__(self, mass, pos, vel, acc, force, index):\n",
    "        self.mass = mass\n",
    "        self.pos = pos\n",
    "        self.vel = vel\n",
    "        self.acc = acc\n",
    "        self.force = force\n",
    "        self.index = index"
   ]
  },
  {
   "cell_type": "markdown",
   "metadata": {},
   "source": [
    "Now we make the bodies and add them to a list"
   ]
  },
  {
   "cell_type": "code",
   "execution_count": 114,
   "metadata": {},
   "outputs": [],
   "source": [
    "import numpy\n",
    "import matplotlib.animation as animation\n",
    "from IPython.display import HTML\n",
    "import matplotlib.pyplot as plt\n",
    "\n",
    "deltaTime = 0.1\n",
    "\n",
    "List_V1 = []\n",
    "\n",
    "for i in range(10):\n",
    "    List_V1.append(body_v1(mass = 10, pos = numpy.array([0,0,0]), vel = numpy.array([0,0,0]), acc = numpy.array([0,0,0]), force = numpy.array([0,0,0]), index = i))"
   ]
  },
  {
   "cell_type": "code",
   "execution_count": 6,
   "metadata": {},
   "outputs": [],
   "source": [
    "def Interaction_Stiffness():\n",
    "    for body in List_V1:\n",
    "        pass"
   ]
  },
  {
   "cell_type": "code",
   "execution_count": 7,
   "metadata": {},
   "outputs": [],
   "source": [
    "#%%timeit\n",
    "\n",
    "def Interaction_Stiffness(List):\n",
    "    for body1 in List:\n",
    "        for body2 in List[body1.index + 1:]:\n",
    "            #print(body1.index,body2.index)\n",
    "            pass\n",
    "def Interaction_Stiffness_enumerate(List):\n",
    "    for index, body1 in enumerate(List):\n",
    "        for body2 in List[index + 1:]:\n",
    "            #print(body1.index,body2.index)\n",
    "            pass\n",
    "\n",
    "#Interaction_Stiffness(List)"
   ]
  },
  {
   "cell_type": "code",
   "execution_count": 8,
   "metadata": {},
   "outputs": [],
   "source": [
    "class body_v2:\n",
    "    def __init__(self, mass, pos, vel, acc, force, index):\n",
    "        self.mass = mass\n",
    "        self.pos = pos\n",
    "        self.vel = vel\n",
    "        self.acc = acc\n",
    "        self.force = force\n",
    "        self.index = index\n",
    "    def Update_acc(self):\n",
    "        self.acc = self.force/self.mass\n",
    "\n",
    "def Interaction_Force(List):\n",
    "    grav_const = 6.674e-11\n",
    "    for body1 in List:\n",
    "        for body2 in List[body1.index + 1:]:\n",
    "            distance = body2.pos - body1.pos\n",
    "            magnitude = abs(distance)\n",
    "            BodyForces = (grav_const*body1.mass*body2.mass*distance)/numpy.power(magnitude, 3)\n",
    "            body1.force = body1.force + BodyForces\n",
    "            body2.force = body2.force - BodyForces\n",
    "            pass"
   ]
  },
  {
   "cell_type": "code",
   "execution_count": 9,
   "metadata": {},
   "outputs": [],
   "source": [
    "List_V2 = []\n",
    "\n",
    "for i in range(10):\n",
    "    List_V2.append(body_v2( mass = 10, pos = numpy.double([i,i,i]), vel = numpy.double([0,0,0]), acc = numpy.double([0,0,0]), force = numpy.double([0,0,0]), index = i))\n",
    "\n",
    "Interaction_Force(List_V2)"
   ]
  },
  {
   "cell_type": "code",
   "execution_count": 10,
   "metadata": {},
   "outputs": [],
   "source": [
    "class body_v3:\n",
    "    def __init__(self, mass, pos, vel, acc, force, index):\n",
    "        self.mass = mass\n",
    "        self.pos = pos\n",
    "        self.vel = vel\n",
    "        self.acc = acc\n",
    "        self.force = force\n",
    "        self.index = index\n",
    "    def Update_acc(self):\n",
    "        self.acc = self.force/self.mass\n",
    "    def Update_vel(self):\n",
    "        self.vel = self.vel + self.acc * deltaTime\n",
    "    def Update_pos(self):\n",
    "        self.pos = self.pos + self.vel * deltaTime\n",
    "    def Reset_force(self):\n",
    "        self.force = numpy.double([0,0,0])"
   ]
  },
  {
   "cell_type": "code",
   "execution_count": 11,
   "metadata": {},
   "outputs": [],
   "source": [
    "def Start(List):\n",
    "    for i in range(10):\n",
    "        List.append(body_v3(mass = 10, pos = numpy.double([i,i,i]), vel = numpy.double([0,0,0]), acc = numpy.double([0,0,0]), force = numpy.double([0,0,0]), index = i))\n",
    "def Update(List):\n",
    "    Interaction_Force(List)\n",
    "    for body_n in List:\n",
    "        body_n.Update_acc()\n",
    "        body_n.Update_vel()\n",
    "        body_n.Update_pos()\n",
    "        body_n.Reset_force()\n"
   ]
  },
  {
   "cell_type": "code",
   "execution_count": 133,
   "metadata": {},
   "outputs": [
    {
     "data": {
      "text/plain": [
       "array([0., 0., 0.])"
      ]
     },
     "metadata": {},
     "output_type": "display_data"
    },
    {
     "data": {
      "text/plain": [
       "array([1., 1., 1.])"
      ]
     },
     "metadata": {},
     "output_type": "display_data"
    },
    {
     "data": {
      "text/plain": [
       "array([2., 2., 2.])"
      ]
     },
     "metadata": {},
     "output_type": "display_data"
    },
    {
     "data": {
      "text/plain": [
       "array([3., 3., 3.])"
      ]
     },
     "metadata": {},
     "output_type": "display_data"
    },
    {
     "data": {
      "text/plain": [
       "array([4., 4., 4.])"
      ]
     },
     "metadata": {},
     "output_type": "display_data"
    },
    {
     "data": {
      "text/plain": [
       "array([5., 5., 5.])"
      ]
     },
     "metadata": {},
     "output_type": "display_data"
    },
    {
     "data": {
      "text/plain": [
       "array([6., 6., 6.])"
      ]
     },
     "metadata": {},
     "output_type": "display_data"
    },
    {
     "data": {
      "text/plain": [
       "array([7., 7., 7.])"
      ]
     },
     "metadata": {},
     "output_type": "display_data"
    },
    {
     "data": {
      "text/plain": [
       "array([8., 8., 8.])"
      ]
     },
     "metadata": {},
     "output_type": "display_data"
    },
    {
     "data": {
      "text/plain": [
       "array([9., 9., 9.])"
      ]
     },
     "metadata": {},
     "output_type": "display_data"
    },
    {
     "data": {
      "text/plain": [
       "array([1.977696e-12, 1.977696e-12, 1.977696e-12])"
      ]
     },
     "metadata": {},
     "output_type": "display_data"
    },
    {
     "data": {
      "text/plain": [
       "array([1., 1., 1.])"
      ]
     },
     "metadata": {},
     "output_type": "display_data"
    },
    {
     "data": {
      "text/plain": [
       "array([2., 2., 2.])"
      ]
     },
     "metadata": {},
     "output_type": "display_data"
    },
    {
     "data": {
      "text/plain": [
       "array([3., 3., 3.])"
      ]
     },
     "metadata": {},
     "output_type": "display_data"
    },
    {
     "data": {
      "text/plain": [
       "array([4., 4., 4.])"
      ]
     },
     "metadata": {},
     "output_type": "display_data"
    },
    {
     "data": {
      "text/plain": [
       "array([5., 5., 5.])"
      ]
     },
     "metadata": {},
     "output_type": "display_data"
    },
    {
     "data": {
      "text/plain": [
       "array([6., 6., 6.])"
      ]
     },
     "metadata": {},
     "output_type": "display_data"
    },
    {
     "data": {
      "text/plain": [
       "array([7., 7., 7.])"
      ]
     },
     "metadata": {},
     "output_type": "display_data"
    },
    {
     "data": {
      "text/plain": [
       "array([8., 8., 8.])"
      ]
     },
     "metadata": {},
     "output_type": "display_data"
    },
    {
     "data": {
      "text/plain": [
       "array([9., 9., 9.])"
      ]
     },
     "metadata": {},
     "output_type": "display_data"
    },
    {
     "data": {
      "text/plain": [
       "array([5.93308799e-12, 5.93308799e-12, 5.93308799e-12])"
      ]
     },
     "metadata": {},
     "output_type": "display_data"
    },
    {
     "data": {
      "text/plain": [
       "array([1., 1., 1.])"
      ]
     },
     "metadata": {},
     "output_type": "display_data"
    },
    {
     "data": {
      "text/plain": [
       "array([2., 2., 2.])"
      ]
     },
     "metadata": {},
     "output_type": "display_data"
    },
    {
     "data": {
      "text/plain": [
       "array([3., 3., 3.])"
      ]
     },
     "metadata": {},
     "output_type": "display_data"
    },
    {
     "data": {
      "text/plain": [
       "array([4., 4., 4.])"
      ]
     },
     "metadata": {},
     "output_type": "display_data"
    },
    {
     "data": {
      "text/plain": [
       "array([5., 5., 5.])"
      ]
     },
     "metadata": {},
     "output_type": "display_data"
    },
    {
     "data": {
      "text/plain": [
       "array([6., 6., 6.])"
      ]
     },
     "metadata": {},
     "output_type": "display_data"
    },
    {
     "data": {
      "text/plain": [
       "array([7., 7., 7.])"
      ]
     },
     "metadata": {},
     "output_type": "display_data"
    },
    {
     "data": {
      "text/plain": [
       "array([8., 8., 8.])"
      ]
     },
     "metadata": {},
     "output_type": "display_data"
    },
    {
     "data": {
      "text/plain": [
       "array([9., 9., 9.])"
      ]
     },
     "metadata": {},
     "output_type": "display_data"
    },
    {
     "data": {
      "text/plain": [
       "array([1.1866176e-11, 1.1866176e-11, 1.1866176e-11])"
      ]
     },
     "metadata": {},
     "output_type": "display_data"
    },
    {
     "data": {
      "text/plain": [
       "array([1., 1., 1.])"
      ]
     },
     "metadata": {},
     "output_type": "display_data"
    },
    {
     "data": {
      "text/plain": [
       "array([2., 2., 2.])"
      ]
     },
     "metadata": {},
     "output_type": "display_data"
    },
    {
     "data": {
      "text/plain": [
       "array([3., 3., 3.])"
      ]
     },
     "metadata": {},
     "output_type": "display_data"
    },
    {
     "data": {
      "text/plain": [
       "array([4., 4., 4.])"
      ]
     },
     "metadata": {},
     "output_type": "display_data"
    },
    {
     "data": {
      "text/plain": [
       "array([5., 5., 5.])"
      ]
     },
     "metadata": {},
     "output_type": "display_data"
    },
    {
     "data": {
      "text/plain": [
       "array([6., 6., 6.])"
      ]
     },
     "metadata": {},
     "output_type": "display_data"
    },
    {
     "data": {
      "text/plain": [
       "array([7., 7., 7.])"
      ]
     },
     "metadata": {},
     "output_type": "display_data"
    },
    {
     "data": {
      "text/plain": [
       "array([8., 8., 8.])"
      ]
     },
     "metadata": {},
     "output_type": "display_data"
    },
    {
     "data": {
      "text/plain": [
       "array([9., 9., 9.])"
      ]
     },
     "metadata": {},
     "output_type": "display_data"
    },
    {
     "data": {
      "text/plain": [
       "array([1.977696e-11, 1.977696e-11, 1.977696e-11])"
      ]
     },
     "metadata": {},
     "output_type": "display_data"
    },
    {
     "data": {
      "text/plain": [
       "array([1., 1., 1.])"
      ]
     },
     "metadata": {},
     "output_type": "display_data"
    },
    {
     "data": {
      "text/plain": [
       "array([2., 2., 2.])"
      ]
     },
     "metadata": {},
     "output_type": "display_data"
    },
    {
     "data": {
      "text/plain": [
       "array([3., 3., 3.])"
      ]
     },
     "metadata": {},
     "output_type": "display_data"
    },
    {
     "data": {
      "text/plain": [
       "array([4., 4., 4.])"
      ]
     },
     "metadata": {},
     "output_type": "display_data"
    },
    {
     "data": {
      "text/plain": [
       "array([5., 5., 5.])"
      ]
     },
     "metadata": {},
     "output_type": "display_data"
    },
    {
     "data": {
      "text/plain": [
       "array([6., 6., 6.])"
      ]
     },
     "metadata": {},
     "output_type": "display_data"
    },
    {
     "data": {
      "text/plain": [
       "array([7., 7., 7.])"
      ]
     },
     "metadata": {},
     "output_type": "display_data"
    },
    {
     "data": {
      "text/plain": [
       "array([8., 8., 8.])"
      ]
     },
     "metadata": {},
     "output_type": "display_data"
    },
    {
     "data": {
      "text/plain": [
       "array([9., 9., 9.])"
      ]
     },
     "metadata": {},
     "output_type": "display_data"
    },
    {
     "data": {
      "text/plain": [
       "array([2.96654399e-11, 2.96654399e-11, 2.96654399e-11])"
      ]
     },
     "metadata": {},
     "output_type": "display_data"
    },
    {
     "data": {
      "text/plain": [
       "array([1., 1., 1.])"
      ]
     },
     "metadata": {},
     "output_type": "display_data"
    },
    {
     "data": {
      "text/plain": [
       "array([2., 2., 2.])"
      ]
     },
     "metadata": {},
     "output_type": "display_data"
    },
    {
     "data": {
      "text/plain": [
       "array([3., 3., 3.])"
      ]
     },
     "metadata": {},
     "output_type": "display_data"
    },
    {
     "data": {
      "text/plain": [
       "array([4., 4., 4.])"
      ]
     },
     "metadata": {},
     "output_type": "display_data"
    },
    {
     "data": {
      "text/plain": [
       "array([5., 5., 5.])"
      ]
     },
     "metadata": {},
     "output_type": "display_data"
    },
    {
     "data": {
      "text/plain": [
       "array([6., 6., 6.])"
      ]
     },
     "metadata": {},
     "output_type": "display_data"
    },
    {
     "data": {
      "text/plain": [
       "array([7., 7., 7.])"
      ]
     },
     "metadata": {},
     "output_type": "display_data"
    },
    {
     "data": {
      "text/plain": [
       "array([8., 8., 8.])"
      ]
     },
     "metadata": {},
     "output_type": "display_data"
    },
    {
     "data": {
      "text/plain": [
       "array([9., 9., 9.])"
      ]
     },
     "metadata": {},
     "output_type": "display_data"
    },
    {
     "data": {
      "text/plain": [
       "array([4.15316159e-11, 4.15316159e-11, 4.15316159e-11])"
      ]
     },
     "metadata": {},
     "output_type": "display_data"
    },
    {
     "data": {
      "text/plain": [
       "array([1., 1., 1.])"
      ]
     },
     "metadata": {},
     "output_type": "display_data"
    },
    {
     "data": {
      "text/plain": [
       "array([2., 2., 2.])"
      ]
     },
     "metadata": {},
     "output_type": "display_data"
    },
    {
     "data": {
      "text/plain": [
       "array([3., 3., 3.])"
      ]
     },
     "metadata": {},
     "output_type": "display_data"
    },
    {
     "data": {
      "text/plain": [
       "array([4., 4., 4.])"
      ]
     },
     "metadata": {},
     "output_type": "display_data"
    },
    {
     "data": {
      "text/plain": [
       "array([5., 5., 5.])"
      ]
     },
     "metadata": {},
     "output_type": "display_data"
    },
    {
     "data": {
      "text/plain": [
       "array([6., 6., 6.])"
      ]
     },
     "metadata": {},
     "output_type": "display_data"
    },
    {
     "data": {
      "text/plain": [
       "array([7., 7., 7.])"
      ]
     },
     "metadata": {},
     "output_type": "display_data"
    },
    {
     "data": {
      "text/plain": [
       "array([8., 8., 8.])"
      ]
     },
     "metadata": {},
     "output_type": "display_data"
    },
    {
     "data": {
      "text/plain": [
       "array([9., 9., 9.])"
      ]
     },
     "metadata": {},
     "output_type": "display_data"
    },
    {
     "data": {
      "text/plain": [
       "array([5.53754879e-11, 5.53754879e-11, 5.53754879e-11])"
      ]
     },
     "metadata": {},
     "output_type": "display_data"
    },
    {
     "data": {
      "text/plain": [
       "array([1., 1., 1.])"
      ]
     },
     "metadata": {},
     "output_type": "display_data"
    },
    {
     "data": {
      "text/plain": [
       "array([2., 2., 2.])"
      ]
     },
     "metadata": {},
     "output_type": "display_data"
    },
    {
     "data": {
      "text/plain": [
       "array([3., 3., 3.])"
      ]
     },
     "metadata": {},
     "output_type": "display_data"
    },
    {
     "data": {
      "text/plain": [
       "array([4., 4., 4.])"
      ]
     },
     "metadata": {},
     "output_type": "display_data"
    },
    {
     "data": {
      "text/plain": [
       "array([5., 5., 5.])"
      ]
     },
     "metadata": {},
     "output_type": "display_data"
    },
    {
     "data": {
      "text/plain": [
       "array([6., 6., 6.])"
      ]
     },
     "metadata": {},
     "output_type": "display_data"
    },
    {
     "data": {
      "text/plain": [
       "array([7., 7., 7.])"
      ]
     },
     "metadata": {},
     "output_type": "display_data"
    },
    {
     "data": {
      "text/plain": [
       "array([8., 8., 8.])"
      ]
     },
     "metadata": {},
     "output_type": "display_data"
    },
    {
     "data": {
      "text/plain": [
       "array([9., 9., 9.])"
      ]
     },
     "metadata": {},
     "output_type": "display_data"
    },
    {
     "data": {
      "text/plain": [
       "array([7.11970558e-11, 7.11970558e-11, 7.11970558e-11])"
      ]
     },
     "metadata": {},
     "output_type": "display_data"
    },
    {
     "data": {
      "text/plain": [
       "array([1., 1., 1.])"
      ]
     },
     "metadata": {},
     "output_type": "display_data"
    },
    {
     "data": {
      "text/plain": [
       "array([2., 2., 2.])"
      ]
     },
     "metadata": {},
     "output_type": "display_data"
    },
    {
     "data": {
      "text/plain": [
       "array([3., 3., 3.])"
      ]
     },
     "metadata": {},
     "output_type": "display_data"
    },
    {
     "data": {
      "text/plain": [
       "array([4., 4., 4.])"
      ]
     },
     "metadata": {},
     "output_type": "display_data"
    },
    {
     "data": {
      "text/plain": [
       "array([5., 5., 5.])"
      ]
     },
     "metadata": {},
     "output_type": "display_data"
    },
    {
     "data": {
      "text/plain": [
       "array([6., 6., 6.])"
      ]
     },
     "metadata": {},
     "output_type": "display_data"
    },
    {
     "data": {
      "text/plain": [
       "array([7., 7., 7.])"
      ]
     },
     "metadata": {},
     "output_type": "display_data"
    },
    {
     "data": {
      "text/plain": [
       "array([8., 8., 8.])"
      ]
     },
     "metadata": {},
     "output_type": "display_data"
    },
    {
     "data": {
      "text/plain": [
       "array([9., 9., 9.])"
      ]
     },
     "metadata": {},
     "output_type": "display_data"
    },
    {
     "data": {
      "text/plain": [
       "array([8.89963198e-11, 8.89963198e-11, 8.89963198e-11])"
      ]
     },
     "metadata": {},
     "output_type": "display_data"
    },
    {
     "data": {
      "text/plain": [
       "array([1., 1., 1.])"
      ]
     },
     "metadata": {},
     "output_type": "display_data"
    },
    {
     "data": {
      "text/plain": [
       "array([2., 2., 2.])"
      ]
     },
     "metadata": {},
     "output_type": "display_data"
    },
    {
     "data": {
      "text/plain": [
       "array([3., 3., 3.])"
      ]
     },
     "metadata": {},
     "output_type": "display_data"
    },
    {
     "data": {
      "text/plain": [
       "array([4., 4., 4.])"
      ]
     },
     "metadata": {},
     "output_type": "display_data"
    },
    {
     "data": {
      "text/plain": [
       "array([5., 5., 5.])"
      ]
     },
     "metadata": {},
     "output_type": "display_data"
    },
    {
     "data": {
      "text/plain": [
       "array([6., 6., 6.])"
      ]
     },
     "metadata": {},
     "output_type": "display_data"
    },
    {
     "data": {
      "text/plain": [
       "array([7., 7., 7.])"
      ]
     },
     "metadata": {},
     "output_type": "display_data"
    },
    {
     "data": {
      "text/plain": [
       "array([8., 8., 8.])"
      ]
     },
     "metadata": {},
     "output_type": "display_data"
    },
    {
     "data": {
      "text/plain": [
       "array([9., 9., 9.])"
      ]
     },
     "metadata": {},
     "output_type": "display_data"
    }
   ],
   "source": [
    "List_V3 = []\n",
    "Start(List_V3)\n",
    "for i in range(10):\n",
    "    Update(List_V3)"
   ]
  },
  {
   "cell_type": "code",
   "execution_count": 131,
   "metadata": {},
   "outputs": [],
   "source": [
    "class body_v4:\n",
    "    def __init__(self, mass, radius, pos, vel, acc, force, index):\n",
    "        self.mass = mass\n",
    "        self.radius = radius\n",
    "        self.pos = pos\n",
    "        self.vel = vel\n",
    "        self.acc = acc\n",
    "        self.force = force\n",
    "        self.index = index\n",
    "    def Update_acc(self):\n",
    "        self.acc = self.force/self.mass\n",
    "    def Update_vel(self):\n",
    "        self.vel = self.vel + self.acc * deltaTime\n",
    "    def Update_pos(self):\n",
    "        self.pos = self.pos + self.vel * deltaTime\n",
    "    def Reset_force(self):\n",
    "        self.force = numpy.double([0,0,0])\n",
    "\n",
    "def Start(List):\n",
    "    for i in range(10):\n",
    "        List.append(body_v4(mass = 10, radius = 0.1, pos = numpy.double([i,i,i]), vel = numpy.double([0,0,0]), acc = numpy.double([0,0,0]), force = numpy.double([0,0,0]), index = i))\n",
    "    return List\n",
    "\n",
    "def verify_Distance(magnitude, distance, body1, body2):\n",
    "    if (magnitude <= (body1.radius + body2.radius)):\n",
    "        new_vel1 = body1.vel - ((2*body2.mass)/(body1.mass + body2.mass)) * ((numpy.dot((body1.vel-body2.vel),(-distance)))/numpy.power(magnitude, 2))*(-distance)\n",
    "        new_vel2 = body2.vel - ((2*body1.mass)/(body1.mass + body2.mass)) * ((numpy.dot((body2.vel-body1.vel),(distance)))/numpy.power(magnitude, 2))*(distance)\n",
    "        body1.vel = new_vel1\n",
    "        body2.vel = new_vel2\n",
    "    pass\n",
    "\n",
    "def Interaction_Force(List):\n",
    "    grav_const = 6.674e-11\n",
    "    for body1 in List:\n",
    "        for body2 in List[body1.index + 1:]:\n",
    "            distance = body2.pos - body1.pos\n",
    "            magnitude = numpy.sqrt(distance.dot(distance))\n",
    "            verify_Distance(magnitude, distance, body1, body2)\n",
    "            BodyForces = (grav_const*body1.mass*body2.mass*distance)/numpy.power(magnitude, 3)\n",
    "            body1.force = body1.force + BodyForces\n",
    "            body2.force = body2.force - BodyForces\n",
    "            pass"
   ]
  },
  {
   "cell_type": "code",
   "execution_count": 121,
   "metadata": {},
   "outputs": [
    {
     "data": {
      "text/plain": [
       "[<__main__.body_v4 at 0x2b1c01709a0>,\n",
       " <__main__.body_v4 at 0x2b1c0171ab0>,\n",
       " <__main__.body_v4 at 0x2b1c0171000>,\n",
       " <__main__.body_v4 at 0x2b1c0170af0>,\n",
       " <__main__.body_v4 at 0x2b1c0170be0>,\n",
       " <__main__.body_v4 at 0x2b1c0170c10>,\n",
       " <__main__.body_v4 at 0x2b1c0170c70>,\n",
       " <__main__.body_v4 at 0x2b1c0170d00>,\n",
       " <__main__.body_v4 at 0x2b1c0170ca0>,\n",
       " <__main__.body_v4 at 0x2b1c0170dc0>]"
      ]
     },
     "execution_count": 121,
     "metadata": {},
     "output_type": "execute_result"
    }
   ],
   "source": [
    "List_V4 = []\n",
    "Start(List_V4)\n",
    "#Update(List_V4)"
   ]
  },
  {
   "cell_type": "code",
   "execution_count": 132,
   "metadata": {},
   "outputs": [],
   "source": [
    "def Update(List):\n",
    "    Interaction_Force(List)\n",
    "    for body_n in List:\n",
    "        display(body_n.pos)\n",
    "        body_n.Update_acc()\n",
    "        body_n.Update_vel()\n",
    "        body_n.Update_pos()\n",
    "        body_n.Reset_force()\n",
    "    #return ax.plot(body.pos for body in List)\n"
   ]
  },
  {
   "cell_type": "code",
   "execution_count": null,
   "metadata": {},
   "outputs": [],
   "source": [
    "from functools import partial\n",
    "\n",
    "def UpdateFrame(frame,List,points):\n",
    "    for body_n, point in zip(List, points):\n",
    "        body_n.Update_acc()\n",
    "        body_n.Update_vel()\n",
    "        body_n.Update_pos()\n",
    "        body_n.Reset_force()\n",
    "        point = ax.plot([body_n.pos[0]],[body_n.pos[1]],[body_n.pos[2]],'o')[0]\n",
    "        display(body_n.pos)\n",
    "    return points\n",
    "\n",
    "fig = plt.figure()\n",
    "ax = fig.add_subplot(projection=\"3d\")\n",
    "points = [ax.plot([], [], [], 'o')[0] for _ in List_V4]\n",
    "\n",
    "anim = animation.FuncAnimation(fig, partial(UpdateFrame, List = List_V4, points = points), frames = 100, interval=100)\n",
    "\n",
    "plt.close(anim._fig)\n",
    "\n",
    "HTML(anim.to_html5_video())"
   ]
  }
 ],
 "metadata": {
  "kernelspec": {
   "display_name": "Python 3",
   "language": "python",
   "name": "python3"
  },
  "language_info": {
   "codemirror_mode": {
    "name": "ipython",
    "version": 3
   },
   "file_extension": ".py",
   "mimetype": "text/x-python",
   "name": "python",
   "nbconvert_exporter": "python",
   "pygments_lexer": "ipython3",
   "version": "3.10.11"
  }
 },
 "nbformat": 4,
 "nbformat_minor": 2
}
